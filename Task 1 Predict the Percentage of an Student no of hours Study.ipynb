{
 "cells": [
  {
   "cell_type": "markdown",
   "id": "58f1979d",
   "metadata": {},
   "source": [
    "# Spark Foundatation "
   ]
  },
  {
   "cell_type": "markdown",
   "id": "2338ad1f",
   "metadata": {},
   "source": [
    "# Predict the Percantage of an student based on the no. of study Hours"
   ]
  },
  {
   "cell_type": "markdown",
   "id": "030863e9",
   "metadata": {},
   "source": [
    "# Step 1: Importing the Python Library"
   ]
  },
  {
   "cell_type": "code",
   "execution_count": 1,
   "id": "cd3c88c5",
   "metadata": {},
   "outputs": [],
   "source": [
    "import pandas as pd\n",
    "import numpy as np\n",
    "import matplotlib.pyplot as plt\n",
    "%matplotlib inline"
   ]
  },
  {
   "cell_type": "markdown",
   "id": "ecbfb544",
   "metadata": {},
   "source": [
    "# Step 2: Importing Data Set"
   ]
  },
  {
   "cell_type": "code",
   "execution_count": 2,
   "id": "7d9ac01e",
   "metadata": {},
   "outputs": [
    {
     "name": "stdout",
     "output_type": "stream",
     "text": [
      "Data Import Succesfully\n"
     ]
    }
   ],
   "source": [
    "data = pd.read_csv(\"data.csv\")\n",
    "print(\"Data Import Succesfully\")"
   ]
  },
  {
   "cell_type": "markdown",
   "id": "7f194cfd",
   "metadata": {},
   "source": [
    "# Step 3: Check data are sucessfully import or not"
   ]
  },
  {
   "cell_type": "code",
   "execution_count": 3,
   "id": "ee12eeae",
   "metadata": {},
   "outputs": [
    {
     "name": "stdout",
     "output_type": "stream",
     "text": [
      "For this we use head function\n"
     ]
    },
    {
     "data": {
      "text/html": [
       "<div>\n",
       "<style scoped>\n",
       "    .dataframe tbody tr th:only-of-type {\n",
       "        vertical-align: middle;\n",
       "    }\n",
       "\n",
       "    .dataframe tbody tr th {\n",
       "        vertical-align: top;\n",
       "    }\n",
       "\n",
       "    .dataframe thead th {\n",
       "        text-align: right;\n",
       "    }\n",
       "</style>\n",
       "<table border=\"1\" class=\"dataframe\">\n",
       "  <thead>\n",
       "    <tr style=\"text-align: right;\">\n",
       "      <th></th>\n",
       "      <th>Hours</th>\n",
       "      <th>Scores</th>\n",
       "    </tr>\n",
       "  </thead>\n",
       "  <tbody>\n",
       "    <tr>\n",
       "      <th>0</th>\n",
       "      <td>2.5</td>\n",
       "      <td>21</td>\n",
       "    </tr>\n",
       "    <tr>\n",
       "      <th>1</th>\n",
       "      <td>5.1</td>\n",
       "      <td>47</td>\n",
       "    </tr>\n",
       "    <tr>\n",
       "      <th>2</th>\n",
       "      <td>3.2</td>\n",
       "      <td>27</td>\n",
       "    </tr>\n",
       "    <tr>\n",
       "      <th>3</th>\n",
       "      <td>8.5</td>\n",
       "      <td>75</td>\n",
       "    </tr>\n",
       "    <tr>\n",
       "      <th>4</th>\n",
       "      <td>3.5</td>\n",
       "      <td>30</td>\n",
       "    </tr>\n",
       "  </tbody>\n",
       "</table>\n",
       "</div>"
      ],
      "text/plain": [
       "   Hours  Scores\n",
       "0    2.5      21\n",
       "1    5.1      47\n",
       "2    3.2      27\n",
       "3    8.5      75\n",
       "4    3.5      30"
      ]
     },
     "execution_count": 3,
     "metadata": {},
     "output_type": "execute_result"
    }
   ],
   "source": [
    "print(\"For this we use head function\")\n",
    "data.head()"
   ]
  },
  {
   "cell_type": "markdown",
   "id": "92389e58",
   "metadata": {},
   "source": [
    "# Step 4: Plot the Graph for details Analysis Data Set\n"
   ]
  },
  {
   "cell_type": "code",
   "execution_count": 4,
   "id": "ef876390",
   "metadata": {},
   "outputs": [
    {
     "ename": "AttributeError",
     "evalue": "module 'matplotlib.pyplot' has no attribute 'xlable'",
     "output_type": "error",
     "traceback": [
      "\u001b[1;31m---------------------------------------------------------------------------\u001b[0m",
      "\u001b[1;31mAttributeError\u001b[0m                            Traceback (most recent call last)",
      "\u001b[1;32m~\\AppData\\Local\\Temp\\ipykernel_1392\\3238916314.py\u001b[0m in \u001b[0;36m<module>\u001b[1;34m\u001b[0m\n\u001b[0;32m      1\u001b[0m \u001b[0mdata\u001b[0m\u001b[1;33m.\u001b[0m\u001b[0mplot\u001b[0m\u001b[1;33m(\u001b[0m\u001b[0mx\u001b[0m\u001b[1;33m=\u001b[0m\u001b[1;34m\"Hours\"\u001b[0m\u001b[1;33m,\u001b[0m\u001b[0my\u001b[0m\u001b[1;33m=\u001b[0m\u001b[1;34m\"Scores\"\u001b[0m\u001b[1;33m,\u001b[0m\u001b[0mstyle\u001b[0m\u001b[1;33m=\u001b[0m\u001b[1;34m'2'\u001b[0m\u001b[1;33m)\u001b[0m\u001b[1;33m\u001b[0m\u001b[1;33m\u001b[0m\u001b[0m\n\u001b[0;32m      2\u001b[0m \u001b[0mplt\u001b[0m\u001b[1;33m.\u001b[0m\u001b[0mtitle\u001b[0m\u001b[1;33m(\u001b[0m\u001b[1;34m\"Hours vs Scores\"\u001b[0m\u001b[1;33m)\u001b[0m\u001b[1;33m\u001b[0m\u001b[1;33m\u001b[0m\u001b[0m\n\u001b[1;32m----> 3\u001b[1;33m \u001b[0mplt\u001b[0m\u001b[1;33m.\u001b[0m\u001b[0mxlable\u001b[0m\u001b[1;33m(\u001b[0m\u001b[1;34m\"Hours Studied\"\u001b[0m\u001b[1;33m)\u001b[0m\u001b[1;33m\u001b[0m\u001b[1;33m\u001b[0m\u001b[0m\n\u001b[0m\u001b[0;32m      4\u001b[0m \u001b[0mplt\u001b[0m\u001b[1;33m.\u001b[0m\u001b[0mylable\u001b[0m\u001b[1;33m(\u001b[0m\u001b[1;34m\"Precentage Score\"\u001b[0m\u001b[1;33m)\u001b[0m\u001b[1;33m\u001b[0m\u001b[1;33m\u001b[0m\u001b[0m\n\u001b[0;32m      5\u001b[0m \u001b[0mplt\u001b[0m\u001b[1;33m.\u001b[0m\u001b[0mshow\u001b[0m\u001b[1;33m(\u001b[0m\u001b[1;33m)\u001b[0m\u001b[1;33m\u001b[0m\u001b[1;33m\u001b[0m\u001b[0m\n",
      "\u001b[1;31mAttributeError\u001b[0m: module 'matplotlib.pyplot' has no attribute 'xlable'"
     ]
    },
    {
     "data": {
      "image/png": "[encoded data removed]",
      "text/plain": [
       "<Figure size 640x480 with 1 Axes>"
      ]
     },
     "metadata": {},
     "output_type": "display_data"
    }
   ],
   "source": [
    "data.plot(x=\"Hours\",y=\"Scores\",style='2')\n",
    "plt.title(\"Hours vs Scores\")\n",
    "plt.xlable(\"Hours Studied\")\n",
    "plt.ylable(\"Precentage Score\")\n",
    "plt.show()"
   ]
  },
  {
   "cell_type": "code",
   "execution_count": null,
   "id": "041398c5",
   "metadata": {},
   "outputs": [],
   "source": [
    "data.plot.pie(x='Hours',y=\"Scores\")"
   ]
  },
  {
   "cell_type": "code",
   "execution_count": null,
   "id": "b025e7be",
   "metadata": {},
   "outputs": [],
   "source": [
    "data.plot.scatter(x='Hours',y=\"Scores\")"
   ]
  },
  {
   "cell_type": "code",
   "execution_count": null,
   "id": "debbe2f5",
   "metadata": {},
   "outputs": [],
   "source": [
    "data.plot.bar(x='Hours',y=\"Scores\")"
   ]
  },
  {
   "cell_type": "markdown",
   "id": "ba5da092",
   "metadata": {},
   "source": [
    "# Short all the Hours Data in Assending Order"
   ]
  },
  {
   "cell_type": "code",
   "execution_count": null,
   "id": "d1fee9e7",
   "metadata": {},
   "outputs": [],
   "source": [
    "data.sort_values([\"Hours\"], axis=0, ascending=[True], inplace=True)\n",
    "\n",
    "# After the Ascending Hours Barplot are\n",
    "\n",
    "data.plot.bar(x='Hours',y=\"Scores\")"
   ]
  },
  {
   "cell_type": "markdown",
   "id": "beacdcf8",
   "metadata": {},
   "source": [
    "# Step 5: Now we have Prepared the data for our Model"
   ]
  },
  {
   "cell_type": "code",
   "execution_count": null,
   "id": "cbac8f83",
   "metadata": {},
   "outputs": [],
   "source": [
    "x = data.iloc[:, :-1].values\n",
    "y = data.iloc[:, -1].values\n",
    "\n",
    "#print(x)"
   ]
  },
  {
   "cell_type": "markdown",
   "id": "1f98404f",
   "metadata": {},
   "source": [
    "# Step 6: Now we have devide the data for training and testing Purpose"
   ]
  },
  {
   "cell_type": "code",
   "execution_count": null,
   "id": "e627dd99",
   "metadata": {},
   "outputs": [],
   "source": [
    "from sklearn.model_selection import train_test_split\n",
    "x_train, x_test, y_train, y_test = train_test_split(x,y,test_size=0.2, random_state=0)"
   ]
  },
  {
   "cell_type": "markdown",
   "id": "1bfcbdc2",
   "metadata": {},
   "source": [
    "# Step 7: Training the Algorithim"
   ]
  },
  {
   "cell_type": "code",
   "execution_count": null,
   "id": "4222fb11",
   "metadata": {},
   "outputs": [],
   "source": [
    "from sklearn.linear_model import LinearRegression\n",
    "regressor = LinearRegression()\n",
    "\n",
    "\n",
    "#from sklearn.ensemle import RandomForestRegressor\n",
    "#regressor = RandomForestRegressor(n_estimators = 1000, random_state=42)\n",
    "\n",
    "regressor.fit(x_train,y_train)\n",
    "print(\"Training Complete\")"
   ]
  },
  {
   "cell_type": "markdown",
   "id": "7a9671d3",
   "metadata": {},
   "source": [
    "# Step 8: Now our model is ready. It time to test it."
   ]
  },
  {
   "cell_type": "code",
   "execution_count": null,
   "id": "52b7fce6",
   "metadata": {},
   "outputs": [],
   "source": [
    "print(x_test)\n",
    "print(\"Prediction of Score\")\n",
    "y_pred = regressor.predict(x_test)\n",
    "print(y_pred)"
   ]
  },
  {
   "cell_type": "markdown",
   "id": "df9f8bee",
   "metadata": {},
   "source": [
    "# Step 9: Now check the Accuracy of Model."
   ]
  },
  {
   "cell_type": "code",
   "execution_count": null,
   "id": "9e6f605d",
   "metadata": {},
   "outputs": [],
   "source": [
    "df = pd.DataFrame({'Actual':y_test, 'Predicted':y_pred})\n",
    "\n",
    "df"
   ]
  },
  {
   "cell_type": "markdown",
   "id": "3ed57ffb",
   "metadata": {},
   "source": [
    "# Step 10: Now Predction with Custome Input"
   ]
  },
  {
   "cell_type": "code",
   "execution_count": null,
   "id": "c30377e0",
   "metadata": {},
   "outputs": [],
   "source": [
    "hours = [[9.25]]\n",
    "pred = regressor.predict(hours)\n",
    "print(pred)"
   ]
  },
  {
   "cell_type": "markdown",
   "id": "4b2f1d35",
   "metadata": {},
   "source": [
    "# Evaluating the Model"
   ]
  },
  {
   "cell_type": "code",
   "execution_count": null,
   "id": "64690aa3",
   "metadata": {},
   "outputs": [],
   "source": [
    "from sklearn import metrics\n",
    "print(\"Mean Absolute Error:\",metrics.mean_absolute_error(y_test,y_pred))"
   ]
  },
  {
   "cell_type": "code",
   "execution_count": null,
   "id": "4c51e0cc",
   "metadata": {},
   "outputs": [],
   "source": []
  }
 ],
 "metadata": {
  "kernelspec": {
   "display_name": "Python 3 (ipykernel)",
   "language": "python",
   "name": "python3"
  },
  "language_info": {
   "codemirror_mode": {
    "name": "ipython",
    "version": 3
   },
   "file_extension": ".py",
   "mimetype": "text/x-python",
   "name": "python",
   "nbconvert_exporter": "python",
   "pygments_lexer": "ipython3",
   "version": "3.9.13"
  }
 },
 "nbformat": 4,
 "nbformat_minor": 5
}
